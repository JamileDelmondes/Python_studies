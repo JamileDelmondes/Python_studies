{
  "nbformat": 4,
  "nbformat_minor": 0,
  "metadata": {
    "colab": {
      "provenance": [],
      "authorship_tag": "ABX9TyMQmQ9WyKJ8mMMILg+f06qm",
      "include_colab_link": true
    },
    "kernelspec": {
      "name": "python3",
      "display_name": "Python 3"
    },
    "language_info": {
      "name": "python"
    }
  },
  "cells": [
    {
      "cell_type": "markdown",
      "metadata": {
        "id": "view-in-github",
        "colab_type": "text"
      },
      "source": [
        "<a href=\"https://colab.research.google.com/github/JamileDelmondes/Python_studies/blob/main/6_ciencias_de_dados.ipynb\" target=\"_parent\"><img src=\"https://colab.research.google.com/assets/colab-badge.svg\" alt=\"Open In Colab\"/></a>"
      ]
    },
    {
      "cell_type": "markdown",
      "source": [
        "Aula do dia 05/04/2024,\n",
        "uso das listas para diminuir a quantidade de linhas no código"
      ],
      "metadata": {
        "id": "9ivLgvsCYi--"
      }
    },
    {
      "cell_type": "code",
      "execution_count": null,
      "metadata": {
        "colab": {
          "base_uri": "https://localhost:8080/"
        },
        "id": "ZKUDzSznFw8n",
        "outputId": "3e0ad1e4-2e53-4f22-83ef-738206cefeac"
      },
      "outputs": [
        {
          "output_type": "stream",
          "name": "stdout",
          "text": [
            "('admin1', 'admin2', 'admin3', 'admin4', 'admin5')\n",
            "('senha1', 'senha2', 'senha3', 'senha4', 'senha5')\n"
          ]
        }
      ],
      "source": [
        "us1 = str(\"admin1\")\n",
        "us2 = str(\"admin2\")\n",
        "us3 = str(\"admin3\")\n",
        "us4 = str(\"admin4\")\n",
        "us5 = str(\"admin5\")\n",
        "\n",
        "sn1 = str(\"senha1\")\n",
        "sn2 = str(\"senha2\")\n",
        "sn3 = str(\"senha3\")\n",
        "sn4 = str(\"senha4\")\n",
        "sn5 = str(\"senha5\")\n",
        "\n",
        "print(f\"{us1,us2,us3,us4,us5}\")\n",
        "print(f\"{sn1,sn2,sn3,sn4,sn5}\")\n"
      ]
    },
    {
      "cell_type": "code",
      "source": [
        "us = [\"admin1\",\"admin2\",\"admin3\",\"admin4\",\"admin5\"]\n",
        "\n",
        "sn = [\"senha1\",\"senha2\",\"senha3\",\"senha4\",\"senha5\"]\n",
        "\n",
        "print(us)\n",
        "print(sn)\n",
        "print(us[2])\n",
        "print(sn[1])\n"
      ],
      "metadata": {
        "colab": {
          "base_uri": "https://localhost:8080/"
        },
        "id": "nb2K8v8GICta",
        "outputId": "222dffc8-1107-49ab-da91-0d59f359c977"
      },
      "execution_count": null,
      "outputs": [
        {
          "output_type": "stream",
          "name": "stdout",
          "text": [
            "['admin1', 'admin2', 'admin3', 'admin4', 'admin5']\n",
            "['senha1', 'senha2', 'senha3', 'senha4', 'senha5']\n",
            "admin3\n",
            "senha2\n"
          ]
        }
      ]
    }
  ]
}