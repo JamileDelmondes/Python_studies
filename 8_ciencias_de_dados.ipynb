{
  "nbformat": 4,
  "nbformat_minor": 0,
  "metadata": {
    "colab": {
      "provenance": [],
      "authorship_tag": "ABX9TyPMnWJAYaDT8tD7QkqsZFvO",
      "include_colab_link": true
    },
    "kernelspec": {
      "name": "python3",
      "display_name": "Python 3"
    },
    "language_info": {
      "name": "python"
    }
  },
  "cells": [
    {
      "cell_type": "markdown",
      "metadata": {
        "id": "view-in-github",
        "colab_type": "text"
      },
      "source": [
        "<a href=\"https://colab.research.google.com/github/JamileDelmondes/Python_studies/blob/main/8_ciencias_de_dados.ipynb\" target=\"_parent\"><img src=\"https://colab.research.google.com/assets/colab-badge.svg\" alt=\"Open In Colab\"/></a>"
      ]
    },
    {
      "cell_type": "markdown",
      "source": [
        "Aula do dia 24/04/2024\n",
        "---\n",
        "\n",
        "\n",
        "REPLACE: Usado para trocar uma palavra \"velha\" por outra \"nova\",\n",
        "\n",
        "LEN: Usado para informar quantas \"variáveis\" existem no dicionário,\n",
        "\n",
        "LIST: Lista os valores das variáveis informadas no dicionário,\n",
        "\n",
        "SEQ: Apresenta os números de 0 até o número antecessor do informado em sequência,\n",
        "\n",
        "SPLIT: Separa os elementos de uma variável em outras variáveis.\n"
      ],
      "metadata": {
        "id": "metkBnoEggbt"
      }
    },
    {
      "cell_type": "code",
      "execution_count": 1,
      "metadata": {
        "colab": {
          "base_uri": "https://localhost:8080/"
        },
        "id": "k16GVfu4bJ9q",
        "outputId": "3bceeebb-2b04-4c31-a851-e9129d4156b0"
      },
      "outputs": [
        {
          "output_type": "stream",
          "name": "stdout",
          "text": [
            "Texto original: Python é uma linguagem de programação poderosa e fácil de aprender\n",
            "Texto modificado: Javascript é uma linguagem de programação poderosa e fácil de aprender\n"
          ]
        }
      ],
      "source": [
        "texto = \"Python é uma linguagem de programação poderosa e fácil de aprender\"\n",
        "texto_modificado = texto.replace (\"Python\",\"Javascript\")\n",
        "print(f\"Texto original: {texto}\")\n",
        "print(f\"Texto modificado: {texto_modificado}\")"
      ]
    },
    {
      "cell_type": "code",
      "source": [
        "dicionario = {\"a\":1,\"b\":2,\"c\":3}\n",
        "print(len(dicionario))"
      ],
      "metadata": {
        "colab": {
          "base_uri": "https://localhost:8080/"
        },
        "id": "-3HjCt4FckhA",
        "outputId": "b7c33759-dc11-48f4-8ea3-8aa39fae43fa"
      },
      "execution_count": 2,
      "outputs": [
        {
          "output_type": "stream",
          "name": "stdout",
          "text": [
            "3\n"
          ]
        }
      ]
    },
    {
      "cell_type": "code",
      "source": [
        "meu_dicionario={\"a\":1,\"b\":2,\"c\":3}\n",
        "lista_valores=list(meu_dicionario.values())\n",
        "print(lista_valores)"
      ],
      "metadata": {
        "colab": {
          "base_uri": "https://localhost:8080/"
        },
        "id": "NUgxu2DLdPlH",
        "outputId": "fb099d60-cdd6-4290-e7e6-3d815ea39d6b"
      },
      "execution_count": 3,
      "outputs": [
        {
          "output_type": "stream",
          "name": "stdout",
          "text": [
            "[1, 2, 3]\n"
          ]
        }
      ]
    },
    {
      "cell_type": "code",
      "source": [
        "seq = list(range(10))\n",
        "print(seq)\n",
        "seq1 = list(range(1, 11))\n",
        "print(seq1)\n",
        "seq2 = list(range(0,11,2))\n",
        "print(seq2)"
      ],
      "metadata": {
        "colab": {
          "base_uri": "https://localhost:8080/"
        },
        "id": "c_tSdSoVeWu4",
        "outputId": "aa62d971-e89d-41a2-f641-b76747bc3730"
      },
      "execution_count": 4,
      "outputs": [
        {
          "output_type": "stream",
          "name": "stdout",
          "text": [
            "[0, 1, 2, 3, 4, 5, 6, 7, 8, 9]\n",
            "[1, 2, 3, 4, 5, 6, 7, 8, 9, 10]\n",
            "[0, 2, 4, 6, 8, 10]\n"
          ]
        }
      ]
    },
    {
      "cell_type": "code",
      "source": [
        "data = \"10/04/2024\"\n",
        "dia,mes,ano=data.split(\"/\")\n",
        "print(f\"Dia: {dia}\")\n",
        "print(f\"Mês: {mes}\")\n",
        "print(f\"Ano: {ano}\")"
      ],
      "metadata": {
        "colab": {
          "base_uri": "https://localhost:8080/"
        },
        "id": "_qG-undpfQST",
        "outputId": "1ad4d86e-9a7b-4b57-a193-3f97bbaae345"
      },
      "execution_count": 5,
      "outputs": [
        {
          "output_type": "stream",
          "name": "stdout",
          "text": [
            "Dia: 10\n",
            "Mês: 04\n",
            "Ano: 2024\n"
          ]
        }
      ]
    },
    {
      "cell_type": "markdown",
      "source": [],
      "metadata": {
        "id": "RUNZnzRyfvx9"
      }
    }
  ]
}