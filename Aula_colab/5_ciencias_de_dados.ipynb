{
  "nbformat": 4,
  "nbformat_minor": 0,
  "metadata": {
    "colab": {
      "provenance": [],
      "authorship_tag": "ABX9TyMMqXrpDWsIYTcss+VhtyhZ",
      "include_colab_link": true
    },
    "kernelspec": {
      "name": "python3",
      "display_name": "Python 3"
    },
    "language_info": {
      "name": "python"
    }
  },
  "cells": [
    {
      "cell_type": "markdown",
      "metadata": {
        "id": "view-in-github",
        "colab_type": "text"
      },
      "source": [
        "<a href=\"https://colab.research.google.com/github/JamileDelmondes/Python_studies/blob/main/5_ciencias_de_dados.ipynb\" target=\"_parent\"><img src=\"https://colab.research.google.com/assets/colab-badge.svg\" alt=\"Open In Colab\"/></a>"
      ]
    },
    {
      "cell_type": "markdown",
      "source": [
        "Atividade do dia 03/04/2024, utilizando .format e f{string}"
      ],
      "metadata": {
        "id": "UtiHHKu3cYYn"
      }
    },
    {
      "cell_type": "markdown",
      "source": [
        "Questão 1 utilizando .format e f{string}"
      ],
      "metadata": {
        "id": "QBDW0L4rcS62"
      }
    },
    {
      "cell_type": "code",
      "execution_count": null,
      "metadata": {
        "colab": {
          "base_uri": "https://localhost:8080/"
        },
        "id": "yaG3SByaP8Vi",
        "outputId": "f41312fc-ed5c-47be-c9c2-518d8979f93d"
      },
      "outputs": [
        {
          "output_type": "stream",
          "name": "stdout",
          "text": [
            "Olá, informe os valores que você tem interesse em calcular a somatória\n",
            "\n",
            "Primeiro fator: 1\n",
            "Segundo fator: 2\n",
            "O valor da adição dos números fornecidos é: 3\n",
            "O valor da adição dos números fornecidos é: 3\n"
          ]
        }
      ],
      "source": [
        "print(\"Olá, informe os valores que você tem interesse em calcular a somatória\")\n",
        "print()\n",
        "a = float(input(\"Primeiro fator: \"))\n",
        "b = float(input(\"Segundo fator: \"))\n",
        "\n",
        "\n",
        "c = (\"O valor da adição dos números fornecidos é: {}\").format(a+b)\n",
        "print(c)\n",
        "d = f\"O valor da adição dos números fornecidos é: {a+b}\"\n",
        "print(d)"
      ]
    },
    {
      "cell_type": "markdown",
      "source": [
        "Questão 2 utilizando .format"
      ],
      "metadata": {
        "id": "A-u-344-cPQP"
      }
    },
    {
      "cell_type": "code",
      "source": [
        "print(\"Bem vindo à nossa mini papelaria virtual, aqui oferecemos três produtos: cadernos, agendas e fichários\")\n",
        "print()\n",
        "print(\"Informe-nos através de um destes números o produto que você tem interesse\")\n",
        "print(\"Caderno = 1\")\n",
        "print(\"Agenda = 2\")\n",
        "print(\"Fichário = 3\")\n",
        "print()\n",
        "produto=int(input(\"Escolha o produto que você gostaria de comprar: \"))\n",
        "print()\n",
        "\n",
        "a=\"O produto escolhido foi {0} que está custando {1} reais e pelo que checamos, tem {2} unidades disponíveis.\".format(\"Caderno\",\"15\",\"30\")\n",
        "b=\"O produto escolhido foi {0} que está custando {1} reais e pelo que checamos, tem {2} unidades disponíveis,.\".format(\"Agenda\",\"25\",\"20\")\n",
        "c=\"O produto escolhido foi {0} que está custando {1} reais e pelo que checamos, tem {2} unidades disponíveis\".format(\"Fichário\",\"40\",\"25\")\n",
        "\n",
        "if produto == 1:\n",
        "  print(a)\n",
        "elif produto == 2:\n",
        "  print(b)\n",
        "elif produto == 3:\n",
        "  print(c)\n",
        "else:\n",
        "  print(\"O número que você escolheu não corresponde a nenhum dos apresentados acima, tente novamente!\")"
      ],
      "metadata": {
        "colab": {
          "base_uri": "https://localhost:8080/"
        },
        "id": "s8sE0gvjSBHX",
        "outputId": "157e5354-f3f8-4418-b055-d6fef38e31ea"
      },
      "execution_count": null,
      "outputs": [
        {
          "output_type": "stream",
          "name": "stdout",
          "text": [
            "Bem vindo à nossa mini papelaria virtual, aqui oferecemos três produtos: cadernos, agendas e fichários\n",
            "\n",
            "Informe-nos através de um destes números o produto que você tem interesse\n",
            "Caderno = 1\n",
            "Agenda = 2\n",
            "Fichário = 3\n",
            "Escolha o produto que você gostaria de comprar:2\n",
            "\n",
            "O produto escolhido foi Agenda que está custando 25 reais e pelo que checamos, tem 20 unidades disponíveis,.\n"
          ]
        }
      ]
    },
    {
      "cell_type": "markdown",
      "source": [
        "Questão 2 utilizando f{string}"
      ],
      "metadata": {
        "id": "naJEZOGHcLOs"
      }
    },
    {
      "cell_type": "code",
      "source": [
        "print(\"Bem vindo à nossa mini papelaria virtual, aqui oferecemos três produtos: cadernos, agendas e fichários\")\n",
        "print()\n",
        "print(\"Informe-nos através de um destes números o produto que você tem interesse\")\n",
        "print(\"Caderno = 1\")\n",
        "print(\"Agenda = 2\")\n",
        "print(\"Fichário = 3\")\n",
        "print()\n",
        "produto=int(input(\"Escolha o produto que você gostaria de comprar: \"))\n",
        "print()\n",
        "\n",
        "\n",
        "if produto == 1:\n",
        "  prod = str(\"Caderno\")\n",
        "  preco = 15\n",
        "  dispo = 30\n",
        "  a=f\"O produto escolhido foi {prod} que está custando {preco} reais e pelo que checamos, tem {dispo} unidades disponíveis.\"\n",
        "  print(a)\n",
        "elif produto == 2:\n",
        "  prod2 = str(\"Agenda\")\n",
        "  preco2 = 25\n",
        "  dispo2 = 20\n",
        "  b=f\"O produto escolhido foi {prod2} que está custando {preco2} reais e pelo que checamos, tem {dispo2} unidades disponíveis.\"\n",
        "  print(b)\n",
        "elif produto == 3:\n",
        "  prod3 = str(\"Fichário\")\n",
        "  preco3 = 40\n",
        "  dispo3 = 25\n",
        "  c=f\"O produto escolhido foi {prod3} que está custando {preco3} reais e pelo que checamos, tem {dispo3} unidades disponíveis\"\n",
        "  print(c)\n",
        "else:\n",
        "  print(\"O número que você escolheu não corresponde a nenhum dos apresentados acima, tente novamente!\")"
      ],
      "metadata": {
        "colab": {
          "base_uri": "https://localhost:8080/"
        },
        "id": "QlutG5PcXvQA",
        "outputId": "f831b887-a3ed-4f07-f0dd-8ed19535444b"
      },
      "execution_count": null,
      "outputs": [
        {
          "output_type": "stream",
          "name": "stdout",
          "text": [
            "Bem vindo à nossa mini papelaria virtual, aqui oferecemos três produtos: cadernos, agendas e fichários\n",
            "\n",
            "Informe-nos através de um destes números o produto que você tem interesse\n",
            "Caderno = 1\n",
            "Agenda = 2\n",
            "Fichário = 3\n",
            "\n",
            "Escolha o produto que você gostaria de comprar: 1\n",
            "\n",
            "O produto escolhido foi Caderno que está custando 15 reais e pelo que checamos, tem 30 unidades disponíveis.\n"
          ]
        }
      ]
    },
    {
      "cell_type": "markdown",
      "source": [
        "Questão 3 utilizando .format"
      ],
      "metadata": {
        "id": "uA2PEK1HcEhk"
      }
    },
    {
      "cell_type": "code",
      "source": [
        "print(\"Bom dia, fiquei sabendo que foi comprado um livro, por favor nos informe algumas coisas:\")\n",
        "print()\n",
        "preco=float(input(\"Qual o preço do livro comprado? \"))\n",
        "quant=int(input(\"Quantos livros foram comprados? \"))\n",
        "porc=float(input(\"Qual a porcentagem do desconto aplicado? (informe o número em decimais, obrigada <3) \"))\n",
        "\n",
        "num1= preco*quant\n",
        "num2= num1*porc\n",
        "a=\"O valor subtotal da compra é de {} reais.\".format(num1)\n",
        "b=\"O valor do desconto aplicado é de {:.1f} reais.\".format(num2)\n",
        "c=\"O valor total da compra é de {} reais.\".format(num1-num2)\n",
        "\n",
        "print(a)\n",
        "print()\n",
        "print(b)\n",
        "print()\n",
        "print(c)"
      ],
      "metadata": {
        "colab": {
          "base_uri": "https://localhost:8080/"
        },
        "id": "A5yAFloyWM-8",
        "outputId": "951adbf9-d8e8-4fe2-bae1-1238bcf77cd0"
      },
      "execution_count": null,
      "outputs": [
        {
          "output_type": "stream",
          "name": "stdout",
          "text": [
            "Bom dia, fiquei sabendo que foi comprado um livro, por favor nos informe algumas coisas:\n",
            "\n",
            "Qual o preço do livro comprado? 35.5\n",
            "Quantos livros foram comprados? 2\n",
            "Qual a porcentagem do desconto aplicado? (informe o número em decimais, obrigada <3) 0.1\n",
            "O valor subtotal da compra é de 71.0 reais.\n",
            "\n",
            "O valor do desconto aplicado é de 7.1 reais.\n",
            "\n",
            "O valor total da compra é de 63.9 reais.\n"
          ]
        }
      ]
    },
    {
      "cell_type": "markdown",
      "source": [
        "Questão 3 utilizando f{string}"
      ],
      "metadata": {
        "id": "_vEraT5fcA9u"
      }
    },
    {
      "cell_type": "code",
      "source": [
        "print(\"Bom dia, fiquei sabendo que foi comprado um livro, por favor nos informe algumas coisas:\")\n",
        "print()\n",
        "preco=float(input(\"Qual o preço do livro comprado? \"))\n",
        "quant=int(input(\"Quantos livros foram comprados? \"))\n",
        "porc=float(input(\"Qual a porcentagem do desconto aplicado? \"))\n",
        "\n",
        "a=f\"O valor subtotal da compra é de {preco*quant} reais.\"\n",
        "b=f\"O valor do desconto aplicado é de {preco*quant*porc/100:.1f} reais.\"\n",
        "c=f\"O valor total da compra é de {preco*quant - preco*quant*porc/100} reais.\"\n",
        "\n",
        "print(a)\n",
        "print()\n",
        "print(b)\n",
        "print()\n",
        "print(c)"
      ],
      "metadata": {
        "colab": {
          "base_uri": "https://localhost:8080/"
        },
        "id": "B-vi0Q2daIJ0",
        "outputId": "5e730dfd-b2ab-437a-852d-8c9eff07fb50"
      },
      "execution_count": null,
      "outputs": [
        {
          "output_type": "stream",
          "name": "stdout",
          "text": [
            "Bom dia, fiquei sabendo que foi comprado um livro, por favor nos informe algumas coisas:\n",
            "\n",
            "Qual o preço do livro comprado? 35.5\n",
            "Quantos livros foram comprados? 2\n",
            "Qual a porcentagem do desconto aplicado? (informe o número em decimais, obrigada <3) 10\n",
            "O valor subtotal da compra é de 71.0 reais.\n",
            "\n",
            "O valor do desconto aplicado é de 7.1 reais.\n",
            "\n",
            "O valor total da compra é de 63.9 reais.\n"
          ]
        }
      ]
    }
  ]
}