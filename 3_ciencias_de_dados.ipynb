{
  "nbformat": 4,
  "nbformat_minor": 0,
  "metadata": {
    "colab": {
      "provenance": [],
      "authorship_tag": "ABX9TyOBQaYwuXCDafPSaVwluHAr",
      "include_colab_link": true
    },
    "kernelspec": {
      "name": "python3",
      "display_name": "Python 3"
    },
    "language_info": {
      "name": "python"
    }
  },
  "cells": [
    {
      "cell_type": "markdown",
      "metadata": {
        "id": "view-in-github",
        "colab_type": "text"
      },
      "source": [
        "<a href=\"https://colab.research.google.com/github/JamileDelmondes/Python_studies/blob/main/3_ciencias_de_dados.ipynb\" target=\"_parent\"><img src=\"https://colab.research.google.com/assets/colab-badge.svg\" alt=\"Open In Colab\"/></a>"
      ]
    },
    {
      "cell_type": "markdown",
      "source": [
        "Aula do dia 13/03/2024, uso do .FORMAT\n",
        "\n",
        "\n",
        "---\n",
        "Pode ser utilizado para deixar mais simples algo do que usar somente o print, maneira flexível e poderosa de formatar uma string.\n",
        "Faz com que se possa juntar um \"inteiro\" em uma \"string\", muda o formato da variável para que seja aceita."
      ],
      "metadata": {
        "id": "nQh0H_YlPGV-"
      }
    },
    {
      "cell_type": "code",
      "execution_count": null,
      "metadata": {
        "colab": {
          "base_uri": "https://localhost:8080/"
        },
        "id": "9FwuNolwHqIO",
        "outputId": "9e6d5663-8054-4688-dfb6-34d466961faa"
      },
      "outputs": [
        {
          "output_type": "stream",
          "name": "stdout",
          "text": [
            "Olá, meu nome é João e tenho 25 anos.\n",
            "nome João idade 25\n"
          ]
        }
      ],
      "source": [
        "nome = \"João\"\n",
        "idade = 25\n",
        "frase = \"Olá, meu nome é {} e tenho {} anos.\".format(nome, idade)\n",
        "print(frase)\n",
        "print(\"nome\", nome, \"idade\", idade)"
      ]
    },
    {
      "cell_type": "code",
      "source": [
        "frase = \"{1}, {0}, {2}\".format(\"primeiro\",\"segundo\",\"terceiro\")\n",
        "print(frase)"
      ],
      "metadata": {
        "colab": {
          "base_uri": "https://localhost:8080/"
        },
        "id": "82JrUHKmJbg3",
        "outputId": "7768d6d9-f324-481c-f4f4-2e1c7e8b2261"
      },
      "execution_count": null,
      "outputs": [
        {
          "output_type": "stream",
          "name": "stdout",
          "text": [
            "segundo, primeiro, terceiro\n"
          ]
        }
      ]
    },
    {
      "cell_type": "code",
      "source": [
        "frase = \"Meu nome é {nome} e tenho {idade} anos\".format(nome=\"Jamile\",idade=16)\n",
        "print(frase)"
      ],
      "metadata": {
        "colab": {
          "base_uri": "https://localhost:8080/"
        },
        "id": "PzhW7mLKLhWN",
        "outputId": "6ffc2c01-9b93-4078-ae8c-2b5c7e889484"
      },
      "execution_count": null,
      "outputs": [
        {
          "output_type": "stream",
          "name": "stdout",
          "text": [
            "Meu nome é Jamile e tenho 16 anos\n"
          ]
        }
      ]
    },
    {
      "cell_type": "code",
      "source": [
        "numero_inteiro=42\n",
        "numero_ponto_flutuante=5.1234\n",
        "\n",
        "frase=\"Número inteiro: {:d},Número de ponto flutuante {:.2f}\".format(numero_inteiro,numero_ponto_flutuante)\n",
        "print(frase)"
      ],
      "metadata": {
        "colab": {
          "base_uri": "https://localhost:8080/"
        },
        "id": "PffBiAkwNewd",
        "outputId": "fc042420-5ffc-441e-c769-537891891fd6"
      },
      "execution_count": null,
      "outputs": [
        {
          "output_type": "stream",
          "name": "stdout",
          "text": [
            "Número inteiro: 42,Número de ponto flutuante 5.12\n"
          ]
        }
      ]
    }
  ]
}