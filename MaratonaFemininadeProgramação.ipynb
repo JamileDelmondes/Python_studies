{
  "nbformat": 4,
  "nbformat_minor": 0,
  "metadata": {
    "colab": {
      "provenance": [],
      "authorship_tag": "ABX9TyP53XPCaOo9jj1ltgvmNQD5",
      "include_colab_link": true
    },
    "kernelspec": {
      "name": "python3",
      "display_name": "Python 3"
    },
    "language_info": {
      "name": "python"
    }
  },
  "cells": [
    {
      "cell_type": "markdown",
      "metadata": {
        "id": "view-in-github",
        "colab_type": "text"
      },
      "source": [
        "<a href=\"https://colab.research.google.com/github/JamileDelmondes/Python_studies/blob/main/MaratonaFemininadePrograma%C3%A7%C3%A3o.ipynb\" target=\"_parent\"><img src=\"https://colab.research.google.com/assets/colab-badge.svg\" alt=\"Open In Colab\"/></a>"
      ]
    },
    {
      "cell_type": "markdown",
      "source": [
        "Códigos referentes às questões respondidas da Maratona Feminina de Programação (nível Ensino Médio) que aconteceu no ano de 2024."
      ],
      "metadata": {
        "id": "2gXI7poEkCXR"
      }
    },
    {
      "cell_type": "code",
      "execution_count": null,
      "metadata": {
        "colab": {
          "base_uri": "https://localhost:8080/"
        },
        "id": "JlOmEFi_dahm",
        "outputId": "81c457cd-7f97-40bd-8554-4d4e62ec5793"
      },
      "outputs": [
        {
          "output_type": "stream",
          "name": "stdout",
          "text": [
            "Digite o número m:2\n",
            "Digte o número n:1\n",
            "2 1\n",
            "3 4 5\n",
            "\n"
          ]
        }
      ],
      "source": [
        "m = int(input(\"Digite o número m:\"))\n",
        "n = int(input(\"Digte o número n:\"))\n",
        "print(f\"{m} {n}\")\n",
        "if 1<=n<m<=10^4:\n",
        "  print(f\"{m*m-n*n} {2*m*n} {m*m+n*n}\")\n",
        "else:\n",
        "  print(\"Número m ou n (ou ambos) não obedece pré-requisitos\")\n",
        "print()"
      ]
    },
    {
      "cell_type": "code",
      "source": [
        "m,n = input().split(\" \")\n",
        "m=int(m)\n",
        "n=int(n)\n",
        "if 1<=n<m<=10^4:\n",
        "  print(f\"{m*m-n*n} {2*m*n} {m*m+n*n}\")\n",
        "else:\n",
        "  print(\"Número m ou n (ou ambos) não obedece pré-requisitos\")\n",
        "print()"
      ],
      "metadata": {
        "colab": {
          "base_uri": "https://localhost:8080/"
        },
        "id": "SvOlALWhnWHa",
        "outputId": "91a9c498-9ea5-402a-ee11-bf5ff0f7f4cb"
      },
      "execution_count": null,
      "outputs": [
        {
          "output_type": "stream",
          "name": "stdout",
          "text": [
            "2 1\n",
            "3 4 5\n",
            "\n"
          ]
        }
      ]
    },
    {
      "cell_type": "code",
      "source": [
        "lista=[]\n",
        "lista = input().split(\" \")\n",
        "m=int(m)\n",
        "n=int(n)\n",
        "if 1<=n<m<=10^4:\n",
        "  print(f\"{m*m-n*n} {2*m*n} {m*m+n*n}\")\n",
        "else:\n",
        "  print(\"Número m ou n (ou ambos) não obedece pré-requisitos\")\n",
        "print()"
      ],
      "metadata": {
        "colab": {
          "base_uri": "https://localhost:8080/"
        },
        "id": "a4A1keLkn-FB",
        "outputId": "2c50df83-e068-43e0-dd67-7c79ef2aef38"
      },
      "execution_count": null,
      "outputs": [
        {
          "output_type": "stream",
          "name": "stdout",
          "text": [
            "2 1\n",
            "3 4 5\n",
            "\n"
          ]
        }
      ]
    },
    {
      "cell_type": "code",
      "source": [
        "N,p = input().split(\" \")\n",
        "Ai=[]\n",
        "Ai = int(input().split(\" \"))\n",
        "\n",
        "N=int(N)\n",
        "p=int(p)\n",
        "if len(Ai) == N and 1<=p<=10^9 and 1<=Ai<=10^9 and 1<=N<=2*10^5:\n",
        "  print(f\"{}\")\n"
      ],
      "metadata": {
        "id": "hRnS8UrroRbG"
      },
      "execution_count": null,
      "outputs": []
    },
    {
      "cell_type": "code",
      "source": [
        "a,b = input().split(\" \")\n",
        "c,d = input().split(\" \")\n",
        "e,f = input().split(\" \")\n",
        "g,h = input().split(\" \")\n",
        "\n",
        "a=int(a)\n",
        "b=int(b)\n",
        "c=int(c)\n",
        "d=int(d)\n",
        "e=int(e)\n",
        "f=int(f)\n",
        "g=int(g)\n",
        "h=int(h)\n",
        "\n",
        "x = a-c == b-d\n",
        "y = c-e == d-f\n",
        "z = e-g == f-h\n",
        "if x:\n",
        "  num1 = a-c\n",
        "  if num1 > 0:\n",
        "    print(num1*num1)\n",
        "  else:\n",
        "    print((0-num1)*(0-num1))\n",
        "elif y:\n",
        "  num2 = c-e\n",
        "  if num2 > 0:\n",
        "    print(num2*num2)\n",
        "  else:\n",
        "    print((0-num2)*(0-num2))\n",
        "elif z:\n",
        "  num3 = e-g\n",
        "  if num3 > 0:\n",
        "    print(num3*num3)\n",
        "  else:\n",
        "    print((0-num3)*(0-num3))\n",
        "print()"
      ],
      "metadata": {
        "colab": {
          "base_uri": "https://localhost:8080/"
        },
        "id": "V6fXQ0VBtEox",
        "outputId": "f9acca8d-14b6-47e6-c26a-0f85cd2194e4"
      },
      "execution_count": null,
      "outputs": [
        {
          "output_type": "stream",
          "name": "stdout",
          "text": [
            "1 3\n",
            "5 7\n",
            "1 7\n",
            "5 3\n",
            "16\n",
            "\n"
          ]
        }
      ]
    },
    {
      "cell_type": "code",
      "source": [
        "N = int(input(\" \"))\n",
        "\n",
        "\n",
        "if N == 1 or N == 2 or N == 4 or N == 8:\n",
        "  print(\"1\")\n",
        "elif N == 3 or N == 5 or N == 9 or N == 6 or N == 10 or N == 12:\n",
        "  print(\"2\")\n",
        "elif N == 7 or N == 13 or N == 14 or N == 11:\n",
        "  print(\"3\")\n",
        "elif N == 15:\n",
        "  print(\"4\")\n",
        "else:\n",
        "  print(f\"Número {N} não obedece a 1 <= N <= 15\")\n",
        "print()"
      ],
      "metadata": {
        "colab": {
          "base_uri": "https://localhost:8080/"
        },
        "id": "kMPYBOYrwtIw",
        "outputId": "8bd1837a-524f-443f-82e9-0c90d41a8802"
      },
      "execution_count": null,
      "outputs": [
        {
          "output_type": "stream",
          "name": "stdout",
          "text": [
            " 13\n",
            "3\n",
            "\n"
          ]
        }
      ]
    },
    {
      "cell_type": "code",
      "source": [
        "lista = []\n",
        "n = int(input(\" \"))\n",
        "len(lista) == n\n",
        "lista = input().string(\" \")\n",
        "li"
      ],
      "metadata": {
        "colab": {
          "base_uri": "https://localhost:8080/",
          "height": 211
        },
        "id": "x-ZHRI0i7cEb",
        "outputId": "fce3d3e2-fa6c-4e65-900d-43f420be2c41"
      },
      "execution_count": null,
      "outputs": [
        {
          "name": "stdout",
          "output_type": "stream",
          "text": [
            " 2\n",
            "1 2\n"
          ]
        },
        {
          "output_type": "error",
          "ename": "AttributeError",
          "evalue": "'str' object has no attribute 'string'",
          "traceback": [
            "\u001b[0;31m---------------------------------------------------------------------------\u001b[0m",
            "\u001b[0;31mAttributeError\u001b[0m                            Traceback (most recent call last)",
            "\u001b[0;32m<ipython-input-43-b8e8429ae28f>\u001b[0m in \u001b[0;36m<cell line: 4>\u001b[0;34m()\u001b[0m\n\u001b[1;32m      2\u001b[0m \u001b[0mn\u001b[0m \u001b[0;34m=\u001b[0m \u001b[0mint\u001b[0m\u001b[0;34m(\u001b[0m\u001b[0minput\u001b[0m\u001b[0;34m(\u001b[0m\u001b[0;34m\" \"\u001b[0m\u001b[0;34m)\u001b[0m\u001b[0;34m)\u001b[0m\u001b[0;34m\u001b[0m\u001b[0;34m\u001b[0m\u001b[0m\n\u001b[1;32m      3\u001b[0m \u001b[0mlen\u001b[0m\u001b[0;34m(\u001b[0m\u001b[0mlista\u001b[0m\u001b[0;34m)\u001b[0m \u001b[0;34m==\u001b[0m \u001b[0mn\u001b[0m\u001b[0;34m\u001b[0m\u001b[0;34m\u001b[0m\u001b[0m\n\u001b[0;32m----> 4\u001b[0;31m \u001b[0mlista\u001b[0m \u001b[0;34m=\u001b[0m \u001b[0minput\u001b[0m\u001b[0;34m(\u001b[0m\u001b[0;34m)\u001b[0m\u001b[0;34m.\u001b[0m\u001b[0mstring\u001b[0m\u001b[0;34m(\u001b[0m\u001b[0;34m\" \"\u001b[0m\u001b[0;34m)\u001b[0m\u001b[0;34m\u001b[0m\u001b[0;34m\u001b[0m\u001b[0m\n\u001b[0m",
            "\u001b[0;31mAttributeError\u001b[0m: 'str' object has no attribute 'string'"
          ]
        }
      ]
    }
  ]
}