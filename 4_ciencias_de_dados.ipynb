{
  "nbformat": 4,
  "nbformat_minor": 0,
  "metadata": {
    "colab": {
      "provenance": [],
      "authorship_tag": "ABX9TyNxqmqUNXS6YcSfDvhHDjgP",
      "include_colab_link": true
    },
    "kernelspec": {
      "name": "python3",
      "display_name": "Python 3"
    },
    "language_info": {
      "name": "python"
    }
  },
  "cells": [
    {
      "cell_type": "markdown",
      "metadata": {
        "id": "view-in-github",
        "colab_type": "text"
      },
      "source": [
        "<a href=\"https://colab.research.google.com/github/JamileDelmondes/Python_studies/blob/main/4_ciencias_de_dados.ipynb\" target=\"_parent\"><img src=\"https://colab.research.google.com/assets/colab-badge.svg\" alt=\"Open In Colab\"/></a>"
      ]
    },
    {
      "cell_type": "markdown",
      "source": [
        "Aula do dia 20/03/2024, uso do .FORMAT e f-string\n",
        "\n",
        "---\n",
        "\n",
        ".FORMAT é usado para maior complexidade de um código. f-string é atribuído à rapidez que se pode dar nesse código."
      ],
      "metadata": {
        "id": "-lMv7k9yP8QJ"
      }
    },
    {
      "cell_type": "code",
      "source": [
        "nome = \"Aline\"\n",
        "idade = 30\n",
        "concatenacao = \"Meu nome é \"+ nome +\" e tenho \"+ str(idade) +\" anos.\"\n",
        "print(concatenacao)"
      ],
      "metadata": {
        "colab": {
          "base_uri": "https://localhost:8080/"
        },
        "id": "9YRJKe8wN4RA",
        "outputId": "c8566f7c-ee55-42b1-ea87-818ad75f574a"
      },
      "execution_count": null,
      "outputs": [
        {
          "output_type": "stream",
          "name": "stdout",
          "text": [
            "Meu nome é Aline e tenho 30 anos.\n"
          ]
        }
      ]
    },
    {
      "cell_type": "code",
      "execution_count": null,
      "metadata": {
        "colab": {
          "base_uri": "https://localhost:8080/"
        },
        "id": "gpXwBYT7MkAq",
        "outputId": "b66ddfc5-9887-42ab-b0b1-6e2eed0dd3b1"
      },
      "outputs": [
        {
          "output_type": "stream",
          "name": "stdout",
          "text": [
            "Nome: Alice     |Idade:    30\n"
          ]
        }
      ],
      "source": [
        "nome = \"Alice\"\n",
        "idade = 30\n",
        "frase = \"Nome: {:<10}|Idade: {:>5}\".format(nome,idade)\n",
        "print(frase)"
      ]
    },
    {
      "cell_type": "code",
      "source": [
        "nome = \"Luís\"\n",
        "idade = 30\n",
        "frase = f\"Meu nome é {nome} e tenho {idade} anos.\"\n",
        "print(frase)"
      ],
      "metadata": {
        "colab": {
          "base_uri": "https://localhost:8080/"
        },
        "id": "TEcS8KRmO4vS",
        "outputId": "e9350c0f-6677-4201-9aca-76a7f559412e"
      },
      "execution_count": null,
      "outputs": [
        {
          "output_type": "stream",
          "name": "stdout",
          "text": [
            "Meu nome é Luís e tenho 30 anos\n"
          ]
        }
      ]
    },
    {
      "cell_type": "code",
      "source": [
        "nome = \"Luís\"\n",
        "idade = 30\n",
        "frase = \"Olá meu nome é {0} e tenho {1} anos\".format(nome,idade)\n",
        "print(frase)"
      ],
      "metadata": {
        "colab": {
          "base_uri": "https://localhost:8080/"
        },
        "id": "fO64eqEBQoT3",
        "outputId": "9accca0d-7340-43e6-e5eb-654590fac992"
      },
      "execution_count": null,
      "outputs": [
        {
          "output_type": "stream",
          "name": "stdout",
          "text": [
            "Olá meu nome é Luís e tenho 30 anos\n"
          ]
        }
      ]
    },
    {
      "cell_type": "code",
      "source": [
        "valor = 42\n",
        "frase = f\"O dobro de {valor} é {valor * 2}, e o triplo é {valor * 3}.\"\n",
        "print(frase)"
      ],
      "metadata": {
        "colab": {
          "base_uri": "https://localhost:8080/"
        },
        "id": "tQyZho-8R8ZW",
        "outputId": "f461cc42-78ec-4dc4-b4da-32943dfedd8d"
      },
      "execution_count": null,
      "outputs": [
        {
          "output_type": "stream",
          "name": "stdout",
          "text": [
            "O dobro de 42 é 84, e o triplo é 126.\n"
          ]
        }
      ]
    },
    {
      "cell_type": "code",
      "source": [
        "aprender= \"java\" != \" javaescript\"\n",
        "print(aprender)"
      ],
      "metadata": {
        "id": "nOy1ablRTTRh",
        "outputId": "605b2143-a3b6-42c4-d59d-f61b97ea2075",
        "colab": {
          "base_uri": "https://localhost:8080/"
        }
      },
      "execution_count": null,
      "outputs": [
        {
          "output_type": "stream",
          "name": "stdout",
          "text": [
            "True\n"
          ]
        }
      ]
    }
  ]
}