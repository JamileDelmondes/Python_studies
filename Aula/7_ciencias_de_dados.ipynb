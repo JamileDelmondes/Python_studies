{
  "nbformat": 4,
  "nbformat_minor": 0,
  "metadata": {
    "colab": {
      "provenance": [],
      "authorship_tag": "ABX9TyPc2i8h9JHmpxFVQIIK39Fr",
      "include_colab_link": true
    },
    "kernelspec": {
      "name": "python3",
      "display_name": "Python 3"
    },
    "language_info": {
      "name": "python"
    }
  },
  "cells": [
    {
      "cell_type": "markdown",
      "metadata": {
        "id": "view-in-github",
        "colab_type": "text"
      },
      "source": [
        "<a href=\"https://colab.research.google.com/github/JamileDelmondes/Python_studies/blob/main/7_ciencias_de_dados.ipynb\" target=\"_parent\"><img src=\"https://colab.research.google.com/assets/colab-badge.svg\" alt=\"Open In Colab\"/></a>"
      ]
    },
    {
      "cell_type": "markdown",
      "source": [
        "Aula do dia 10/04/2024\n",
        "---\n",
        "\n",
        " LOWER: deixar o texto minúsculo,\n",
        "\n",
        " UPPER: deixar o texto todo maiúsculo,\n",
        "\n",
        " CAPITALIZE: deixar a primeira letra do texto maíuscula,\n",
        "\n",
        " STRIP: retirar determinado elemento do começo ou final do texto,\n",
        "\n",
        " COUNT: conta quanto elementos daquele prescrito têm no texto."
      ],
      "metadata": {
        "id": "s_9TNk-aaogz"
      }
    },
    {
      "cell_type": "code",
      "execution_count": null,
      "metadata": {
        "colab": {
          "base_uri": "https://localhost:8080/"
        },
        "id": "ASQ8Ns6fWGvc",
        "outputId": "30c8f253-6418-451c-86fe-d4575bf3e98d"
      },
      "outputs": [
        {
          "output_type": "stream",
          "name": "stdout",
          "text": [
            "Texto original: TEXTO com MAIÚCULAS e minúsculas\n",
            "Texto em minúsculas: texto com maiúculas e minúsculas\n"
          ]
        }
      ],
      "source": [
        "texto = \"TEXTO com MAIÚCULAS e minúsculas\"\n",
        "texto_minusc = texto.lower()\n",
        "print(f\"Texto original: {texto}\")\n",
        "print(f\"Texto em minúsculas: {texto_minusc}\")"
      ]
    },
    {
      "cell_type": "code",
      "source": [
        "codigo_de_barras = str(input(\"Digite o código de barras do produto: \"))\n",
        "codigo_de_barras = codigo_de_barras.upper()\n",
        "print(f\"Processando código de barras: {codigo_de_barras}\")"
      ],
      "metadata": {
        "colab": {
          "base_uri": "https://localhost:8080/"
        },
        "id": "6YElJR6wWr2I",
        "outputId": "bd759854-83a7-46b3-cf72-992f8b09d0c9"
      },
      "execution_count": null,
      "outputs": [
        {
          "output_type": "stream",
          "name": "stdout",
          "text": [
            "Digite o código de barras do produto: jamileunderline\n",
            "Processando código de barras: JAMILEUNDERLINE\n"
          ]
        }
      ]
    },
    {
      "cell_type": "code",
      "source": [
        "titulo=\"python para ciência de dados\"\n",
        "titulo_formatado=titulo.capitalize()\n",
        "print(f\"Título formatado: {titulo_formatado}\")"
      ],
      "metadata": {
        "colab": {
          "base_uri": "https://localhost:8080/"
        },
        "id": "QngK6xLbXgtw",
        "outputId": "50c9d2e5-d273-48f5-bf29-6f869e392a46"
      },
      "execution_count": null,
      "outputs": [
        {
          "output_type": "stream",
          "name": "stdout",
          "text": [
            "Título formatado: Python para ciência de dados\n"
          ]
        }
      ]
    },
    {
      "cell_type": "code",
      "source": [
        "texto=\"!!!Python é uma linguagem de programação!!!\"\n",
        "texto_stripped = texto.strip(\"!\")\n",
        "print(texto_stripped)\n",
        "\n",
        "texto=\"!!!Python é uma linguagem de programação!!!111\"\n",
        "texto_stripped = texto.strip(\"!1\")\n",
        "print(texto_stripped)"
      ],
      "metadata": {
        "colab": {
          "base_uri": "https://localhost:8080/"
        },
        "id": "ex7iLx2GYQmc",
        "outputId": "85d237c7-18d9-4025-b09d-b9a3ff75286b"
      },
      "execution_count": null,
      "outputs": [
        {
          "output_type": "stream",
          "name": "stdout",
          "text": [
            "Python é uma linguagem de programação\n",
            "Python é uma linguagem de programação\n"
          ]
        }
      ]
    },
    {
      "cell_type": "code",
      "source": [
        "feedback = \"O produto é excelente. Recomendo!\"\n",
        "palavra_chave = \"excelente\"\n",
        "contagem_palavra_chave = feedback.count(palavra_chave)\n",
        "print(f\"'{palavra_chave}' aparece {contagem_palavra_chave} vezes no feedback.\")"
      ],
      "metadata": {
        "colab": {
          "base_uri": "https://localhost:8080/"
        },
        "id": "MdfWIMpYZX6H",
        "outputId": "85363a99-66e7-417e-d40c-b572976e13c8"
      },
      "execution_count": null,
      "outputs": [
        {
          "output_type": "stream",
          "name": "stdout",
          "text": [
            "'excelente' aparece 1 vezes no feedback.\n"
          ]
        }
      ]
    }
  ]
}